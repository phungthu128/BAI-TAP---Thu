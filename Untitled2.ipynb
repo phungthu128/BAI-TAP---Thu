{
  "nbformat": 4,
  "nbformat_minor": 0,
  "metadata": {
    "colab": {
      "name": "Untitled2.ipynb",
      "provenance": [],
      "authorship_tag": "ABX9TyNSuIK3MdRj4Xd6KGaD68ir",
      "include_colab_link": true
    },
    "kernelspec": {
      "name": "python3",
      "display_name": "Python 3"
    }
  },
  "cells": [
    {
      "cell_type": "markdown",
      "metadata": {
        "id": "view-in-github",
        "colab_type": "text"
      },
      "source": [
        "<a href=\"https://colab.research.google.com/github/phungthu128/BAI-TAP---Thu/blob/main/Untitled2.ipynb\" target=\"_parent\"><img src=\"https://colab.research.google.com/assets/colab-badge.svg\" alt=\"Open In Colab\"/></a>"
      ]
    },
    {
      "cell_type": "code",
      "metadata": {
        "id": "MuMHdaN-Rhgj",
        "outputId": "0623c4d6-c900-4368-cc88-4ae735e8bf1c",
        "colab": {
          "base_uri": "https://localhost:8080/",
          "height": 72
        }
      },
      "source": [
        "a= [2,4,5,6,3,34,56,35,21,23,7,8,78,54,55]\n",
        "n = input(\"nhap n =\")\n",
        "n = int (n)\n",
        "for i in range(len(a)):\n",
        "    if a[i] == n:\n",
        "      print(\"vitri i = \",i,\":a[i]= \", a[i])\n",
        "print(\"ket thuc chuong trinh\")\n"
      ],
      "execution_count": 36,
      "outputs": [
        {
          "output_type": "stream",
          "text": [
            "nhap n =2\n",
            "vitri i =  0 :a[i]=  2\n",
            "ket thuc chuong trinh\n"
          ],
          "name": "stdout"
        }
      ]
    },
    {
      "cell_type": "code",
      "metadata": {
        "id": "5Z5nXr06d0Ns"
      },
      "source": [
        ""
      ],
      "execution_count": null,
      "outputs": []
    }
  ]
}