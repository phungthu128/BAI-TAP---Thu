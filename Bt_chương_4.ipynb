{
  "nbformat": 4,
  "nbformat_minor": 0,
  "metadata": {
    "colab": {
      "name": "Bt chương 4 ",
      "provenance": [],
      "authorship_tag": "ABX9TyNb+r1snbXKDhPPhSkOHm/S",
      "include_colab_link": true
    },
    "kernelspec": {
      "name": "python3",
      "display_name": "Python 3"
    }
  },
  "cells": [
    {
      "cell_type": "markdown",
      "metadata": {
        "id": "view-in-github",
        "colab_type": "text"
      },
      "source": [
        "<a href=\"https://colab.research.google.com/github/phungthu128/BAI-TAP---Thu/blob/main/Bt_ch%C6%B0%C6%A1ng_4.ipynb\" target=\"_parent\"><img src=\"https://colab.research.google.com/assets/colab-badge.svg\" alt=\"Open In Colab\"/></a>"
      ]
    },
    {
      "cell_type": "code",
      "metadata": {
        "id": "QdNLCbzzMuCQ",
        "outputId": "4eade285-97f5-4563-8421-90ced9b73b35",
        "colab": {
          "base_uri": "https://localhost:8080/",
          "height": 135
        }
      },
      "source": [
        "a = float(input(\"a = \"))\n",
        "b = float(input(\"b= \"))\n",
        "c = float(input(\"c=\"))\n",
        "if a == 0 :\n",
        "   if b == 0:\n",
        "     if c == 0:\n",
        "        print(\" phuong trinh co vo so nghiem \")\n",
        "     else:\n",
        "        print(\" phuong trinh vo nghiem \")\n",
        "   else:\n",
        "       x = -c/b\n",
        "       print(\" phuong trinh co 1 nghiem = \", x)\n",
        "else:\n",
        "      delta = b*b - 4*a*c\n",
        "else:\n",
        "   delta= b*b - 4*a*c\n",
        "  if delta < 0:\n",
        "     print(\" phuong trinh vo nghiem \")\n",
        "  else:\n",
        "    if delta == 0:\n",
        "       print(\" phuong trinh co 1 nghiem = \", -b/(2+a))\n",
        "    else:\n",
        "       print(\" phuong trinh co 2 nghiem phan biet:\")\n",
        "       x1 = (-b + math.sqrt(delta))/(2*a)\n",
        "       x2 = (-b - math.sqrt(delta))/(2*a)\n",
        "       print(\"x1 = \", x1)\n",
        "       print(\"x2 = \", x2)\n"
      ],
      "execution_count": 29,
      "outputs": [
        {
          "output_type": "error",
          "ename": "SyntaxError",
          "evalue": "ignored",
          "traceback": [
            "\u001b[0;36m  File \u001b[0;32m\"<ipython-input-29-f85f68d67ea1>\"\u001b[0;36m, line \u001b[0;32m15\u001b[0m\n\u001b[0;31m    else:\u001b[0m\n\u001b[0m       ^\u001b[0m\n\u001b[0;31mSyntaxError\u001b[0m\u001b[0;31m:\u001b[0m invalid syntax\n"
          ]
        }
      ]
    },
    {
      "cell_type": "code",
      "metadata": {
        "id": "MW5mQ11JMuVL"
      },
      "source": [
        ""
      ],
      "execution_count": null,
      "outputs": []
    }
  ]
}