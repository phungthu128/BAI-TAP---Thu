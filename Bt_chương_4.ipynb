{
  "nbformat": 4,
  "nbformat_minor": 0,
  "metadata": {
    "colab": {
      "name": "Bt chương 4 ",
      "provenance": [],
      "authorship_tag": "ABX9TyPCU3kzmtmyNe21iYK0tZEq",
      "include_colab_link": true
    },
    "kernelspec": {
      "name": "python3",
      "display_name": "Python 3"
    }
  },
  "cells": [
    {
      "cell_type": "markdown",
      "metadata": {
        "id": "view-in-github",
        "colab_type": "text"
      },
      "source": [
        "<a href=\"https://colab.research.google.com/github/phungthu128/BAI-TAP---Thu/blob/main/Bt_ch%C6%B0%C6%A1ng_4.ipynb\" target=\"_parent\"><img src=\"https://colab.research.google.com/assets/colab-badge.svg\" alt=\"Open In Colab\"/></a>"
      ]
    },
    {
      "cell_type": "code",
      "metadata": {
        "id": "MuW9BSnxGBZS",
        "outputId": "1fdb5e3a-b9ba-4920-a098-54459c2e174f",
        "colab": {
          "base_uri": "https://localhost:8080/",
          "height": 128
        }
      },
      "source": [
        "print(\"giai phuong trinh bac 2: ax^2 + bx + c = 0\")\n",
        "a = float(input(\"a = \"))\n",
        "b = float(input(\"b = \"))\n",
        "c = float(input(\"c = \"))\n",
        "\n",
        "if a == 0\n",
        "   print(\" phuong trinh co mot nghiem x = \", -b/a)\n",
        "else:\n",
        "    delta = b ** 2 - 4 * a * c\n",
        "    if delta < 0\n",
        "     print(\" phuong trinh vo nghiem \")\n",
        "    else delta == 0:\n",
        "     print(\" phuong trinh co mot nghiem x =\", -b/(2 * a))\n",
        "    else:\n",
        "     print (\"phuong trinh 2 nghiem phan biet \")\n",
        "     print(\"x1 = \",float((-b - sqrt(delta)) / (2 * a)))\n",
        "     print(\"x2 = \",float((-b + sqrt(delta)) / (2 * a)))\n",
        "    "
      ],
      "execution_count": 9,
      "outputs": [
        {
          "output_type": "error",
          "ename": "SyntaxError",
          "evalue": "ignored",
          "traceback": [
            "\u001b[0;36m  File \u001b[0;32m\"<ipython-input-9-b14cba060e0f>\"\u001b[0;36m, line \u001b[0;32m6\u001b[0m\n\u001b[0;31m    if a == 0\u001b[0m\n\u001b[0m             ^\u001b[0m\n\u001b[0;31mSyntaxError\u001b[0m\u001b[0;31m:\u001b[0m invalid syntax\n"
          ]
        }
      ]
    },
    {
      "cell_type": "code",
      "metadata": {
        "id": "QdNLCbzzMuCQ"
      },
      "source": [
        ""
      ],
      "execution_count": null,
      "outputs": []
    },
    {
      "cell_type": "code",
      "metadata": {
        "id": "MW5mQ11JMuVL"
      },
      "source": [
        ""
      ],
      "execution_count": null,
      "outputs": []
    }
  ]
}