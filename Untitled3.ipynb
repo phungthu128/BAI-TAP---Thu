{
  "nbformat": 4,
  "nbformat_minor": 0,
  "metadata": {
    "colab": {
      "name": "Untitled3.ipynb",
      "provenance": [],
      "authorship_tag": "ABX9TyONx57MrAcLbL9RgfEoziMS",
      "include_colab_link": true
    },
    "kernelspec": {
      "name": "python3",
      "display_name": "Python 3"
    }
  },
  "cells": [
    {
      "cell_type": "markdown",
      "metadata": {
        "id": "view-in-github",
        "colab_type": "text"
      },
      "source": [
        "<a href=\"https://colab.research.google.com/github/phungthu128/BAI-TAP---Thu/blob/main/Untitled3.ipynb\" target=\"_parent\"><img src=\"https://colab.research.google.com/assets/colab-badge.svg\" alt=\"Open In Colab\"/></a>"
      ]
    },
    {
      "cell_type": "code",
      "metadata": {
        "id": "-E-uFb5XTELL",
        "outputId": "4f28c3d3-2bda-4f78-b814-c5e3740d1249",
        "colab": {
          "base_uri": "https://localhost:8080/",
          "height": 90
        }
      },
      "source": [
        "\n",
        "a = float(input(\"a= \"))\n",
        "b = float(input(\"b= \"))\n",
        "c = float(input(\"c= \"))\n",
        "\n",
        "if a == 0:\n",
        "    if b == 0:\n",
        "        if c == 0:\n",
        "            print(\"Phương trình vô số nghiệm\")\n",
        "        else:\n",
        "            print(\"Phương trình vô nghiệm\")\n",
        "    else:\n",
        "        if c == 0:\n",
        "            print(\"Phương trình có 1 nghiệm x = 0\")\n",
        "        else:\n",
        "            print(\"Phương trình có 1 nghiệm x = \", -c / b)\n",
        "else:\n",
        "    delta = b ** 2 - 4 * a * c\n",
        "    if delta < 0:\n",
        "        print(\"Phương trình vô nghiệm!\")\n",
        "    else:\n",
        "      if delta == 0:\n",
        "        print(\"Phương trình có 1 nghiệm x = \", -b / (2 * a))\n",
        "      else:\n",
        "        print(\"x1 = \",(-b -math.sqrt(delta) / (2*a)))\n",
        "        print(\"x2 = \",(-b +math.sqrt(delta) / (2*a)))\n",
        "    "
      ],
      "execution_count": 52,
      "outputs": [
        {
          "output_type": "stream",
          "text": [
            "a= 2\n",
            "b= 1\n",
            "c= 3\n",
            "Phương trình vô nghiệm!\n"
          ],
          "name": "stdout"
        }
      ]
    }
  ]
}