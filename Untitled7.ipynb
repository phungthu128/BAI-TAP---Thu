{
  "nbformat": 4,
  "nbformat_minor": 0,
  "metadata": {
    "colab": {
      "name": "Untitled7.ipynb",
      "provenance": [],
      "authorship_tag": "ABX9TyP6MQMn6zOkwxutrzxDVkGK",
      "include_colab_link": true
    },
    "kernelspec": {
      "name": "python3",
      "display_name": "Python 3"
    }
  },
  "cells": [
    {
      "cell_type": "markdown",
      "metadata": {
        "id": "view-in-github",
        "colab_type": "text"
      },
      "source": [
        "<a href=\"https://colab.research.google.com/github/phungthu128/BAI-TAP---Thu/blob/main/Untitled7.ipynb\" target=\"_parent\"><img src=\"https://colab.research.google.com/assets/colab-badge.svg\" alt=\"Open In Colab\"/></a>"
      ]
    },
    {
      "cell_type": "code",
      "metadata": {
        "id": "cxZUMrru_4Pd"
      },
      "source": [
        "def sap_xep_giam(n):\n",
        "  vector=[]\n",
        "  # nhap gia tri vector\n",
        "  for i in range(n):\n",
        "    value = float(input(\"nhap\"))\n",
        "    vector.append(value)\n",
        "  # sap xep vector  \n",
        "  for i in range(0,n-1):\n",
        "    for j in range(i + 1,n):\n",
        "      if vector[i]<vector[j]:\n",
        "        vector[i],vector[j]=vector[j],vector[i]\n",
        "  return vector"
      ],
      "execution_count": 1,
      "outputs": []
    },
    {
      "cell_type": "code",
      "metadata": {
        "id": "txPHHCyx__Z9",
        "outputId": "4f7d8726-f893-42ac-8f28-e3dfd15a6ca0",
        "colab": {
          "base_uri": "https://localhost:8080/",
          "height": 119
        }
      },
      "source": [
        "n = 5\n",
        "print(sap_xep_giam(5))"
      ],
      "execution_count": 5,
      "outputs": [
        {
          "output_type": "stream",
          "text": [
            "nhap3\n",
            "nhap5\n",
            "nhap8\n",
            "nhap9\n",
            "nhap2\n",
            "[9.0, 8.0, 5.0, 3.0, 2.0]\n"
          ],
          "name": "stdout"
        }
      ]
    }
  ]
}