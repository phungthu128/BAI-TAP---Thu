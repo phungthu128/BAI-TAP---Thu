{
  "nbformat": 4,
  "nbformat_minor": 0,
  "metadata": {
    "colab": {
      "name": "Untitled5.ipynb",
      "provenance": [],
      "authorship_tag": "ABX9TyPeInSlS3tyK5SmeojhZqbm",
      "include_colab_link": true
    },
    "kernelspec": {
      "name": "python3",
      "display_name": "Python 3"
    }
  },
  "cells": [
    {
      "cell_type": "markdown",
      "metadata": {
        "id": "view-in-github",
        "colab_type": "text"
      },
      "source": [
        "<a href=\"https://colab.research.google.com/github/phungthu128/BAI-TAP---Thu/blob/main/Untitled5.ipynb\" target=\"_parent\"><img src=\"https://colab.research.google.com/assets/colab-badge.svg\" alt=\"Open In Colab\"/></a>"
      ]
    },
    {
      "cell_type": "code",
      "metadata": {
        "id": "l25VvlcPXYlQ",
        "outputId": "84da12f9-7aef-466a-82a6-2a6ddbe8304f",
        "colab": {
          "base_uri": "https://localhost:8080/",
          "height": 54
        }
      },
      "source": [
        "def tim_vi_tri(x,n):\n",
        "  vi_tri = []\n",
        "  for i in range(len(n)):\n",
        "    if n[i] == x:\n",
        "     vi_tri.append(i)\n",
        "  return vi_tri\n",
        "\n",
        "n = [4,2,8,3,15,14,15,12,3,6,15,0,12,13,0]\n",
        "print(n)\n",
        "x=15\n",
        "ket_qua = tim_vi_tri(x,n)\n",
        "print(ket_qua)\n"
      ],
      "execution_count": 6,
      "outputs": [
        {
          "output_type": "stream",
          "text": [
            "[4, 2, 8, 3, 15, 14, 15, 12, 3, 6, 15, 0, 12, 13, 0]\n",
            "[4, 6, 10]\n"
          ],
          "name": "stdout"
        }
      ]
    }
  ]
}