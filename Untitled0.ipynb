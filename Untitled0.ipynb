{
  "nbformat": 4,
  "nbformat_minor": 0,
  "metadata": {
    "colab": {
      "name": "Untitled0.ipynb",
      "provenance": [],
      "authorship_tag": "ABX9TyNOJsE7oeDMjVKLoOKd/i7W",
      "include_colab_link": true
    },
    "kernelspec": {
      "name": "python3",
      "display_name": "Python 3"
    }
  },
  "cells": [
    {
      "cell_type": "markdown",
      "metadata": {
        "id": "view-in-github",
        "colab_type": "text"
      },
      "source": [
        "<a href=\"https://colab.research.google.com/github/phungthu128/BAI-TAP---Thu/blob/main/Untitled0.ipynb\" target=\"_parent\"><img src=\"https://colab.research.google.com/assets/colab-badge.svg\" alt=\"Open In Colab\"/></a>"
      ]
    },
    {
      "cell_type": "code",
      "metadata": {
        "id": "Xbl8bTLtkVwH"
      },
      "source": [
        "import random\n",
        "def tao_vector(n):\n",
        "  vector = []\n",
        "  random.seed(1)\n",
        "  for i in range(n):\n",
        "    vector.append(random.randint(0,1000))\n",
        "  return vector\n",
        "\n",
        "def tim_kiem_vet_can(x,n):\n",
        "  vi_tri=[]\n",
        "  for i in range(len(n)):\n",
        "    if n[i] == x:\n",
        "      vi_tri.append(i)\n",
        "  if (len(vi_tri) > 0):\n",
        "    print('so nguyen (x) xuat hien{len(vi_tri)}lan tai cac vi tri{vitri}.')\n",
        "  else:\n",
        "    print('so nguyen (x) khong xuat hien')\n",
        "  return;"
      ],
      "execution_count": 23,
      "outputs": []
    },
    {
      "cell_type": "code",
      "metadata": {
        "id": "BsguQL8RmRAK",
        "outputId": "f8719bf2-2b28-41de-b6ab-2ec018ce96df",
        "colab": {
          "base_uri": "https://localhost:8080/",
          "height": 85
        }
      },
      "source": [
        "v = tao_vector(15)\n",
        "print ('Vector da tao :',v)\n",
        "N=int(input('Nhap so nguyen can tim:'))\n",
        "print(tim_kiem_vet_can(N,v))"
      ],
      "execution_count": 24,
      "outputs": [
        {
          "output_type": "stream",
          "text": [
            "Vector da tao : [137, 582, 867, 821, 782, 64, 261, 120, 507, 779, 460, 483, 667, 388, 807]\n",
            "Nhap so nguyen can tim:582\n",
            "so nguyen (x) xuat hien{len(vi_tri)}lan tai cac vi tri{vitri}.\n",
            "None\n"
          ],
          "name": "stdout"
        }
      ]
    }
  ]
}