{
  "nbformat": 4,
  "nbformat_minor": 0,
  "metadata": {
    "colab": {
      "name": "Untitled1.ipynb",
      "provenance": [],
      "authorship_tag": "ABX9TyOIcBfzAufKN3lnKjy3TaSG",
      "include_colab_link": true
    },
    "kernelspec": {
      "name": "python3",
      "display_name": "Python 3"
    }
  },
  "cells": [
    {
      "cell_type": "markdown",
      "metadata": {
        "id": "view-in-github",
        "colab_type": "text"
      },
      "source": [
        "<a href=\"https://colab.research.google.com/github/phungthu128/BAI-TAP---Thu/blob/main/Untitled1.ipynb\" target=\"_parent\"><img src=\"https://colab.research.google.com/assets/colab-badge.svg\" alt=\"Open In Colab\"/></a>"
      ]
    },
    {
      "cell_type": "code",
      "metadata": {
        "id": "0gGyeyO3w0ZT",
        "outputId": "4080ffba-b1be-4af4-e1a3-ced697c3e170",
        "colab": {
          "base_uri": "https://localhost:8080/",
          "height": 72
        }
      },
      "source": [
        "a =[\"2,5 43,20,8,18\"]\n",
        "n = input (\"nhap n=\")\n",
        "print(\"vector ban dau la: \",a)\n",
        "for i in range(0,len(a)-1):\n",
        "    for j in range(i+1,len(a)):\n",
        "      if a[i] < a[j]:\n",
        "          a[i],a[j] = a[j],a[i]\n",
        "    print(\"(i=\",i,\";j=\",j,\"):\",a)\n",
        "print(\"ket thuc chuong trinh\")\n",
        "         "
      ],
      "execution_count": 24,
      "outputs": [
        {
          "output_type": "stream",
          "text": [
            "nhap n=2\n",
            "vector ban dau la:  ['2,5 43,20,8,18']\n",
            "ket thuc chuong trinh\n"
          ],
          "name": "stdout"
        }
      ]
    }
  ]
}